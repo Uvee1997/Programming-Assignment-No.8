{
 "cells": [
  {
   "cell_type": "markdown",
   "id": "60d86f85",
   "metadata": {},
   "source": [
    "1) Write Python Program to Add two matrices ? "
   ]
  },
  {
   "cell_type": "code",
   "execution_count": 3,
   "id": "44f700ca",
   "metadata": {},
   "outputs": [
    {
     "name": "stdout",
     "output_type": "stream",
     "text": [
      "[10, 10, 10]\n",
      "[10, 10, 10]\n",
      "[10, 10, 10]\n"
     ]
    }
   ],
   "source": [
    "x = [[1,2,3],\n",
    "    [4,5,6],\n",
    "    [7,8,9]]\n",
    "\n",
    "y = [[9,8,7],\n",
    "    [6,5,4],\n",
    "    [3,2,1]]\n",
    "\n",
    "result = [[0,0,0],\n",
    "         [0,0,0],\n",
    "         [0,0,0]]\n",
    "\n",
    "for i in range(len(x)):\n",
    "    for j in range(len(x[0])):\n",
    "        result [i][j] = x[i][j] + y[i][j]\n",
    "        \n",
    "for r in result:\n",
    "    print(r)"
   ]
  },
  {
   "cell_type": "markdown",
   "id": "bd5931ac",
   "metadata": {},
   "source": [
    "2) Write a Python Program to Multiply Two Matrices ?"
   ]
  },
  {
   "cell_type": "code",
   "execution_count": 4,
   "id": "45985eb4",
   "metadata": {},
   "outputs": [
    {
     "name": "stdout",
     "output_type": "stream",
     "text": [
      "[9, 16, 21]\n",
      "[24, 25, 42]\n",
      "[21, 16, 0]\n"
     ]
    }
   ],
   "source": [
    "x = [[1,2,3],\n",
    "    [4,5,6],\n",
    "    [7,8,9]]\n",
    "\n",
    "y = [[9,8,7],\n",
    "    [6,5,7],\n",
    "    [3,2,0]]\n",
    "\n",
    "result = [[0,0,0],\n",
    "         [0,0,0],\n",
    "         [0,0,0]]\n",
    "\n",
    "for i in range(len(x)):\n",
    "    for j in range(len(x[0])):\n",
    "        result [i][j] = x[i][j] * y[i][j]\n",
    "        \n",
    "for r in result:\n",
    "    print(r)"
   ]
  },
  {
   "cell_type": "markdown",
   "id": "c2f705f4",
   "metadata": {},
   "source": [
    "3) Write a Python Program to Transpose a Matrix ?"
   ]
  },
  {
   "cell_type": "code",
   "execution_count": 12,
   "id": "45931bfd",
   "metadata": {},
   "outputs": [
    {
     "name": "stdout",
     "output_type": "stream",
     "text": [
      "[1, 5, 7]\n",
      "[2, 6, 10]\n"
     ]
    }
   ],
   "source": [
    "x = [[1,2],\n",
    "    [5,6],\n",
    "    [7,10]]\n",
    "\n",
    "result = [[0,0,0],\n",
    "          [0,0,0]]\n",
    "\n",
    "for i in range(len(x)):\n",
    "    for j in range(len(x[0])):\n",
    "        result[j][i] = x[i][j]\n",
    "        \n",
    "for r in result:\n",
    "    print(r)"
   ]
  },
  {
   "cell_type": "markdown",
   "id": "9d6f02aa",
   "metadata": {},
   "source": [
    "4) Write a Python Program to sort Words in Alphabatical order ? "
   ]
  },
  {
   "cell_type": "code",
   "execution_count": 15,
   "id": "5be99a55",
   "metadata": {},
   "outputs": [
    {
     "name": "stdout",
     "output_type": "stream",
     "text": [
      "enter a string:My name is Yuvraj Patil. I am from Mumbai \n",
      "I\n",
      "Mumbai\n",
      "My\n",
      "Patil.\n",
      "Yuvraj\n",
      "am\n",
      "from\n",
      "is\n",
      "name\n"
     ]
    }
   ],
   "source": [
    "my_str = input(\"enter a string:\")\n",
    "words = my_str.split()\n",
    "words.sort()\n",
    "for word in words:\n",
    "    print(word)\n"
   ]
  },
  {
   "cell_type": "markdown",
   "id": "9db41472",
   "metadata": {},
   "source": [
    "5) Write a Python Program to Remove Punctuation From a String ?"
   ]
  },
  {
   "cell_type": "code",
   "execution_count": 17,
   "id": "7f5be41a",
   "metadata": {},
   "outputs": [
    {
     "name": "stdout",
     "output_type": "stream",
     "text": [
      "Hello he said you are to far to go\n"
     ]
    }
   ],
   "source": [
    "punctuations = '''!()-[]{};:'\"\\,<>./?@#$%^&*_~'''\n",
    "\n",
    "my_str = \"Hello!!!!, he said you are to far to go\"\n",
    "no_punct = \"\"\n",
    "for char in my_str:\n",
    "    if char not in punctuations:\n",
    "        no_punct = no_punct + char\n",
    "print(no_punct)        \n",
    "        \n",
    "\n"
   ]
  },
  {
   "cell_type": "code",
   "execution_count": null,
   "id": "6847daec",
   "metadata": {},
   "outputs": [],
   "source": []
  }
 ],
 "metadata": {
  "kernelspec": {
   "display_name": "Python 3 (ipykernel)",
   "language": "python",
   "name": "python3"
  },
  "language_info": {
   "codemirror_mode": {
    "name": "ipython",
    "version": 3
   },
   "file_extension": ".py",
   "mimetype": "text/x-python",
   "name": "python",
   "nbconvert_exporter": "python",
   "pygments_lexer": "ipython3",
   "version": "3.9.7"
  }
 },
 "nbformat": 4,
 "nbformat_minor": 5
}
